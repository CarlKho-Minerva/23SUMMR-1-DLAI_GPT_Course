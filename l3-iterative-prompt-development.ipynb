{
 "cells": [
  {
   "attachments": {},
   "cell_type": "markdown",
   "metadata": {},
   "source": [
    "# Iterative Prompt Develelopment\n",
    "In this lesson, you'll iteratively analyze and refine your prompts to generate marketing copy from a product fact sheet.\n",
    "\n",
    "## Setup"
   ]
  },
  {
   "cell_type": "code",
   "execution_count": 6,
   "metadata": {},
   "outputs": [],
   "source": [
    "import openai\n",
    "import os\n",
    "\n",
    "from dotenv import load_dotenv, find_dotenv\n",
    "_ = load_dotenv(find_dotenv()) # read local .env file\n",
    "\n",
    "openai.api_key  = os.getenv('OPENAI_API_KEY')"
   ]
  },
  {
   "cell_type": "code",
   "execution_count": 7,
   "metadata": {},
   "outputs": [],
   "source": [
    "def get_completion(prompt, model=\"gpt-3.5-turbo\"):\n",
    "    messages = [{\"role\": \"user\", \"content\": prompt}]\n",
    "    response = openai.ChatCompletion.create(\n",
    "        model=model,\n",
    "        messages=messages,\n",
    "        temperature=0, # this is the degree of randomness of the model's output\n",
    "    )\n",
    "    return response.choices[0].message[\"content\"]"
   ]
  },
  {
   "attachments": {},
   "cell_type": "markdown",
   "metadata": {},
   "source": [
    "## Generate a marketing product description from a product fact sheet"
   ]
  },
  {
   "cell_type": "code",
   "execution_count": 8,
   "metadata": {},
   "outputs": [],
   "source": [
    "fact_sheet_chair = \"\"\"\n",
    "OVERVIEW\n",
    "- Part of a beautiful family of mid-century inspired office furniture, \n",
    "including filing cabinets, desks, bookcases, meeting tables, and more.\n",
    "- Several options of shell color and base finishes.\n",
    "- Available with plastic back and front upholstery (SWC-100) \n",
    "or full upholstery (SWC-110) in 10 fabric and 6 leather options.\n",
    "- Base finish options are: stainless steel, matte black, \n",
    "gloss white, or chrome.\n",
    "- Chair is available with or without armrests.\n",
    "- Suitable for home or business settings.\n",
    "- Qualified for contract use.\n",
    "\n",
    "CONSTRUCTION\n",
    "- 5-wheel plastic coated aluminum base.\n",
    "- Pneumatic chair adjust for easy raise/lower action.\n",
    "\n",
    "DIMENSIONS\n",
    "- WIDTH 53 CM | 20.87”\n",
    "- DEPTH 51 CM | 20.08”\n",
    "- HEIGHT 80 CM | 31.50”\n",
    "- SEAT HEIGHT 44 CM | 17.32”\n",
    "- SEAT DEPTH 41 CM | 16.14”\n",
    "\n",
    "OPTIONS\n",
    "- Soft or hard-floor caster options.\n",
    "- Two choices of seat foam densities: \n",
    " medium (1.8 lb/ft3) or high (2.8 lb/ft3)\n",
    "- Armless or 8 position PU armrests \n",
    "\n",
    "MATERIALS\n",
    "SHELL BASE GLIDER\n",
    "- Cast Aluminum with modified nylon PA6/PA66 coating.\n",
    "- Shell thickness: 10 mm.\n",
    "SEAT\n",
    "- HD36 foam\n",
    "\n",
    "COUNTRY OF ORIGIN\n",
    "- Italy\n",
    "\"\"\""
   ]
  },
  {
   "cell_type": "code",
   "execution_count": 10,
   "metadata": {},
   "outputs": [
    {
     "ename": "AttributeError",
     "evalue": "module 'openai' has no attribute 'ChatCompletion'",
     "output_type": "error",
     "traceback": [
      "\u001b[0;31m---------------------------------------------------------------------------\u001b[0m",
      "\u001b[0;31mAttributeError\u001b[0m                            Traceback (most recent call last)",
      "\u001b[1;32m/Users/cvk/Downloads/[CODE] Local Projects/[COURSE] ChatGPT Prompt Engineering for Developers/l3-iterative-prompt-development.ipynb Cell 6\u001b[0m in \u001b[0;36m<cell line: 12>\u001b[0;34m()\u001b[0m\n\u001b[1;32m      <a href='vscode-notebook-cell:/Users/cvk/Downloads/%5BCODE%5D%20Local%20Projects/%5BCOURSE%5D%20ChatGPT%20Prompt%20Engineering%20for%20Developers/l3-iterative-prompt-development.ipynb#W6sZmlsZQ%3D%3D?line=0'>1</a>\u001b[0m prompt \u001b[39m=\u001b[39m \u001b[39mf\u001b[39m\u001b[39m\"\"\"\u001b[39m\n\u001b[1;32m      <a href='vscode-notebook-cell:/Users/cvk/Downloads/%5BCODE%5D%20Local%20Projects/%5BCOURSE%5D%20ChatGPT%20Prompt%20Engineering%20for%20Developers/l3-iterative-prompt-development.ipynb#W6sZmlsZQ%3D%3D?line=1'>2</a>\u001b[0m \u001b[39mYour task is to help a marketing team create a \u001b[39m\n\u001b[1;32m      <a href='vscode-notebook-cell:/Users/cvk/Downloads/%5BCODE%5D%20Local%20Projects/%5BCOURSE%5D%20ChatGPT%20Prompt%20Engineering%20for%20Developers/l3-iterative-prompt-development.ipynb#W6sZmlsZQ%3D%3D?line=2'>3</a>\u001b[0m \u001b[39mdescription for a retail website of a product based \u001b[39m\n\u001b[0;32m   (...)\u001b[0m\n\u001b[1;32m     <a href='vscode-notebook-cell:/Users/cvk/Downloads/%5BCODE%5D%20Local%20Projects/%5BCOURSE%5D%20ChatGPT%20Prompt%20Engineering%20for%20Developers/l3-iterative-prompt-development.ipynb#W6sZmlsZQ%3D%3D?line=9'>10</a>\u001b[0m \u001b[39mTechnical specifications: ```\u001b[39m\u001b[39m{\u001b[39;00mfact_sheet_chair\u001b[39m}\u001b[39;00m\u001b[39m```\u001b[39m\n\u001b[1;32m     <a href='vscode-notebook-cell:/Users/cvk/Downloads/%5BCODE%5D%20Local%20Projects/%5BCOURSE%5D%20ChatGPT%20Prompt%20Engineering%20for%20Developers/l3-iterative-prompt-development.ipynb#W6sZmlsZQ%3D%3D?line=10'>11</a>\u001b[0m \u001b[39m\"\"\"\u001b[39m\n\u001b[0;32m---> <a href='vscode-notebook-cell:/Users/cvk/Downloads/%5BCODE%5D%20Local%20Projects/%5BCOURSE%5D%20ChatGPT%20Prompt%20Engineering%20for%20Developers/l3-iterative-prompt-development.ipynb#W6sZmlsZQ%3D%3D?line=11'>12</a>\u001b[0m response \u001b[39m=\u001b[39m get_completion(prompt)\n\u001b[1;32m     <a href='vscode-notebook-cell:/Users/cvk/Downloads/%5BCODE%5D%20Local%20Projects/%5BCOURSE%5D%20ChatGPT%20Prompt%20Engineering%20for%20Developers/l3-iterative-prompt-development.ipynb#W6sZmlsZQ%3D%3D?line=12'>13</a>\u001b[0m \u001b[39mprint\u001b[39m(response)\n",
      "\u001b[1;32m/Users/cvk/Downloads/[CODE] Local Projects/[COURSE] ChatGPT Prompt Engineering for Developers/l3-iterative-prompt-development.ipynb Cell 6\u001b[0m in \u001b[0;36mget_completion\u001b[0;34m(prompt, model)\u001b[0m\n\u001b[1;32m      <a href='vscode-notebook-cell:/Users/cvk/Downloads/%5BCODE%5D%20Local%20Projects/%5BCOURSE%5D%20ChatGPT%20Prompt%20Engineering%20for%20Developers/l3-iterative-prompt-development.ipynb#W6sZmlsZQ%3D%3D?line=0'>1</a>\u001b[0m \u001b[39mdef\u001b[39;00m \u001b[39mget_completion\u001b[39m(prompt, model\u001b[39m=\u001b[39m\u001b[39m\"\u001b[39m\u001b[39mgpt-3.5-turbo\u001b[39m\u001b[39m\"\u001b[39m):\n\u001b[1;32m      <a href='vscode-notebook-cell:/Users/cvk/Downloads/%5BCODE%5D%20Local%20Projects/%5BCOURSE%5D%20ChatGPT%20Prompt%20Engineering%20for%20Developers/l3-iterative-prompt-development.ipynb#W6sZmlsZQ%3D%3D?line=1'>2</a>\u001b[0m     messages \u001b[39m=\u001b[39m [{\u001b[39m\"\u001b[39m\u001b[39mrole\u001b[39m\u001b[39m\"\u001b[39m: \u001b[39m\"\u001b[39m\u001b[39muser\u001b[39m\u001b[39m\"\u001b[39m, \u001b[39m\"\u001b[39m\u001b[39mcontent\u001b[39m\u001b[39m\"\u001b[39m: prompt}]\n\u001b[0;32m----> <a href='vscode-notebook-cell:/Users/cvk/Downloads/%5BCODE%5D%20Local%20Projects/%5BCOURSE%5D%20ChatGPT%20Prompt%20Engineering%20for%20Developers/l3-iterative-prompt-development.ipynb#W6sZmlsZQ%3D%3D?line=2'>3</a>\u001b[0m     response \u001b[39m=\u001b[39m openai\u001b[39m.\u001b[39;49mChatCompletion\u001b[39m.\u001b[39mcreate(\n\u001b[1;32m      <a href='vscode-notebook-cell:/Users/cvk/Downloads/%5BCODE%5D%20Local%20Projects/%5BCOURSE%5D%20ChatGPT%20Prompt%20Engineering%20for%20Developers/l3-iterative-prompt-development.ipynb#W6sZmlsZQ%3D%3D?line=3'>4</a>\u001b[0m         model\u001b[39m=\u001b[39mmodel,\n\u001b[1;32m      <a href='vscode-notebook-cell:/Users/cvk/Downloads/%5BCODE%5D%20Local%20Projects/%5BCOURSE%5D%20ChatGPT%20Prompt%20Engineering%20for%20Developers/l3-iterative-prompt-development.ipynb#W6sZmlsZQ%3D%3D?line=4'>5</a>\u001b[0m         messages\u001b[39m=\u001b[39mmessages,\n\u001b[1;32m      <a href='vscode-notebook-cell:/Users/cvk/Downloads/%5BCODE%5D%20Local%20Projects/%5BCOURSE%5D%20ChatGPT%20Prompt%20Engineering%20for%20Developers/l3-iterative-prompt-development.ipynb#W6sZmlsZQ%3D%3D?line=5'>6</a>\u001b[0m         temperature\u001b[39m=\u001b[39m\u001b[39m0\u001b[39m, \u001b[39m# this is the degree of randomness of the model's output\u001b[39;00m\n\u001b[1;32m      <a href='vscode-notebook-cell:/Users/cvk/Downloads/%5BCODE%5D%20Local%20Projects/%5BCOURSE%5D%20ChatGPT%20Prompt%20Engineering%20for%20Developers/l3-iterative-prompt-development.ipynb#W6sZmlsZQ%3D%3D?line=6'>7</a>\u001b[0m     )\n\u001b[1;32m      <a href='vscode-notebook-cell:/Users/cvk/Downloads/%5BCODE%5D%20Local%20Projects/%5BCOURSE%5D%20ChatGPT%20Prompt%20Engineering%20for%20Developers/l3-iterative-prompt-development.ipynb#W6sZmlsZQ%3D%3D?line=7'>8</a>\u001b[0m     \u001b[39mreturn\u001b[39;00m response\u001b[39m.\u001b[39mchoices[\u001b[39m0\u001b[39m]\u001b[39m.\u001b[39mmessage[\u001b[39m\"\u001b[39m\u001b[39mcontent\u001b[39m\u001b[39m\"\u001b[39m]\n",
      "\u001b[0;31mAttributeError\u001b[0m: module 'openai' has no attribute 'ChatCompletion'"
     ]
    }
   ],
   "source": [
    "prompt = f\"\"\"\n",
    "Your task is to help a marketing team create a \n",
    "description for a retail website of a product based \n",
    "on a technical fact sheet.\n",
    "\n",
    "Write a product description based on the information \n",
    "provided in the technical specifications delimited by \n",
    "triple backticks.\n",
    "\n",
    "Technical specifications: ```{fact_sheet_chair}```\n",
    "\"\"\"\n",
    "response = get_completion(prompt)\n",
    "print(response)\n"
   ]
  },
  {
   "attachments": {},
   "cell_type": "markdown",
   "metadata": {},
   "source": [
    "## Issue 1: The text is too long \n",
    "- Limit the number of words/sentences/characters."
   ]
  },
  {
   "cell_type": "code",
   "execution_count": 9,
   "metadata": {},
   "outputs": [
    {
     "ename": "AttributeError",
     "evalue": "module 'openai' has no attribute 'ChatCompletion'",
     "output_type": "error",
     "traceback": [
      "\u001b[0;31m---------------------------------------------------------------------------\u001b[0m",
      "\u001b[0;31mAttributeError\u001b[0m                            Traceback (most recent call last)",
      "\u001b[1;32m/Users/cvk/Downloads/[CODE] Local Projects/[COURSE] ChatGPT Prompt Engineering for Developers/l3-iterative-prompt-development.ipynb Cell 8\u001b[0m in \u001b[0;36m<cell line: 14>\u001b[0;34m()\u001b[0m\n\u001b[1;32m      <a href='vscode-notebook-cell:/Users/cvk/Downloads/%5BCODE%5D%20Local%20Projects/%5BCOURSE%5D%20ChatGPT%20Prompt%20Engineering%20for%20Developers/l3-iterative-prompt-development.ipynb#X12sZmlsZQ%3D%3D?line=0'>1</a>\u001b[0m prompt \u001b[39m=\u001b[39m \u001b[39mf\u001b[39m\u001b[39m\"\"\"\u001b[39m\n\u001b[1;32m      <a href='vscode-notebook-cell:/Users/cvk/Downloads/%5BCODE%5D%20Local%20Projects/%5BCOURSE%5D%20ChatGPT%20Prompt%20Engineering%20for%20Developers/l3-iterative-prompt-development.ipynb#X12sZmlsZQ%3D%3D?line=1'>2</a>\u001b[0m \u001b[39mYour task is to help a marketing team create a \u001b[39m\n\u001b[1;32m      <a href='vscode-notebook-cell:/Users/cvk/Downloads/%5BCODE%5D%20Local%20Projects/%5BCOURSE%5D%20ChatGPT%20Prompt%20Engineering%20for%20Developers/l3-iterative-prompt-development.ipynb#X12sZmlsZQ%3D%3D?line=2'>3</a>\u001b[0m \u001b[39mdescription for a retail website of a product based \u001b[39m\n\u001b[0;32m   (...)\u001b[0m\n\u001b[1;32m     <a href='vscode-notebook-cell:/Users/cvk/Downloads/%5BCODE%5D%20Local%20Projects/%5BCOURSE%5D%20ChatGPT%20Prompt%20Engineering%20for%20Developers/l3-iterative-prompt-development.ipynb#X12sZmlsZQ%3D%3D?line=11'>12</a>\u001b[0m \u001b[39mTechnical specifications: ```\u001b[39m\u001b[39m{\u001b[39;00mfact_sheet_chair\u001b[39m}\u001b[39;00m\u001b[39m```\u001b[39m\n\u001b[1;32m     <a href='vscode-notebook-cell:/Users/cvk/Downloads/%5BCODE%5D%20Local%20Projects/%5BCOURSE%5D%20ChatGPT%20Prompt%20Engineering%20for%20Developers/l3-iterative-prompt-development.ipynb#X12sZmlsZQ%3D%3D?line=12'>13</a>\u001b[0m \u001b[39m\"\"\"\u001b[39m\n\u001b[0;32m---> <a href='vscode-notebook-cell:/Users/cvk/Downloads/%5BCODE%5D%20Local%20Projects/%5BCOURSE%5D%20ChatGPT%20Prompt%20Engineering%20for%20Developers/l3-iterative-prompt-development.ipynb#X12sZmlsZQ%3D%3D?line=13'>14</a>\u001b[0m response \u001b[39m=\u001b[39m get_completion(prompt)\n\u001b[1;32m     <a href='vscode-notebook-cell:/Users/cvk/Downloads/%5BCODE%5D%20Local%20Projects/%5BCOURSE%5D%20ChatGPT%20Prompt%20Engineering%20for%20Developers/l3-iterative-prompt-development.ipynb#X12sZmlsZQ%3D%3D?line=14'>15</a>\u001b[0m \u001b[39mprint\u001b[39m(response)\n",
      "\u001b[1;32m/Users/cvk/Downloads/[CODE] Local Projects/[COURSE] ChatGPT Prompt Engineering for Developers/l3-iterative-prompt-development.ipynb Cell 8\u001b[0m in \u001b[0;36mget_completion\u001b[0;34m(prompt, model)\u001b[0m\n\u001b[1;32m      <a href='vscode-notebook-cell:/Users/cvk/Downloads/%5BCODE%5D%20Local%20Projects/%5BCOURSE%5D%20ChatGPT%20Prompt%20Engineering%20for%20Developers/l3-iterative-prompt-development.ipynb#X12sZmlsZQ%3D%3D?line=0'>1</a>\u001b[0m \u001b[39mdef\u001b[39;00m \u001b[39mget_completion\u001b[39m(prompt, model\u001b[39m=\u001b[39m\u001b[39m\"\u001b[39m\u001b[39mgpt-3.5-turbo\u001b[39m\u001b[39m\"\u001b[39m):\n\u001b[1;32m      <a href='vscode-notebook-cell:/Users/cvk/Downloads/%5BCODE%5D%20Local%20Projects/%5BCOURSE%5D%20ChatGPT%20Prompt%20Engineering%20for%20Developers/l3-iterative-prompt-development.ipynb#X12sZmlsZQ%3D%3D?line=1'>2</a>\u001b[0m     messages \u001b[39m=\u001b[39m [{\u001b[39m\"\u001b[39m\u001b[39mrole\u001b[39m\u001b[39m\"\u001b[39m: \u001b[39m\"\u001b[39m\u001b[39muser\u001b[39m\u001b[39m\"\u001b[39m, \u001b[39m\"\u001b[39m\u001b[39mcontent\u001b[39m\u001b[39m\"\u001b[39m: prompt}]\n\u001b[0;32m----> <a href='vscode-notebook-cell:/Users/cvk/Downloads/%5BCODE%5D%20Local%20Projects/%5BCOURSE%5D%20ChatGPT%20Prompt%20Engineering%20for%20Developers/l3-iterative-prompt-development.ipynb#X12sZmlsZQ%3D%3D?line=2'>3</a>\u001b[0m     response \u001b[39m=\u001b[39m openai\u001b[39m.\u001b[39;49mChatCompletion\u001b[39m.\u001b[39mcreate(\n\u001b[1;32m      <a href='vscode-notebook-cell:/Users/cvk/Downloads/%5BCODE%5D%20Local%20Projects/%5BCOURSE%5D%20ChatGPT%20Prompt%20Engineering%20for%20Developers/l3-iterative-prompt-development.ipynb#X12sZmlsZQ%3D%3D?line=3'>4</a>\u001b[0m         model\u001b[39m=\u001b[39mmodel,\n\u001b[1;32m      <a href='vscode-notebook-cell:/Users/cvk/Downloads/%5BCODE%5D%20Local%20Projects/%5BCOURSE%5D%20ChatGPT%20Prompt%20Engineering%20for%20Developers/l3-iterative-prompt-development.ipynb#X12sZmlsZQ%3D%3D?line=4'>5</a>\u001b[0m         messages\u001b[39m=\u001b[39mmessages,\n\u001b[1;32m      <a href='vscode-notebook-cell:/Users/cvk/Downloads/%5BCODE%5D%20Local%20Projects/%5BCOURSE%5D%20ChatGPT%20Prompt%20Engineering%20for%20Developers/l3-iterative-prompt-development.ipynb#X12sZmlsZQ%3D%3D?line=5'>6</a>\u001b[0m         temperature\u001b[39m=\u001b[39m\u001b[39m0\u001b[39m, \u001b[39m# this is the degree of randomness of the model's output\u001b[39;00m\n\u001b[1;32m      <a href='vscode-notebook-cell:/Users/cvk/Downloads/%5BCODE%5D%20Local%20Projects/%5BCOURSE%5D%20ChatGPT%20Prompt%20Engineering%20for%20Developers/l3-iterative-prompt-development.ipynb#X12sZmlsZQ%3D%3D?line=6'>7</a>\u001b[0m     )\n\u001b[1;32m      <a href='vscode-notebook-cell:/Users/cvk/Downloads/%5BCODE%5D%20Local%20Projects/%5BCOURSE%5D%20ChatGPT%20Prompt%20Engineering%20for%20Developers/l3-iterative-prompt-development.ipynb#X12sZmlsZQ%3D%3D?line=7'>8</a>\u001b[0m     \u001b[39mreturn\u001b[39;00m response\u001b[39m.\u001b[39mchoices[\u001b[39m0\u001b[39m]\u001b[39m.\u001b[39mmessage[\u001b[39m\"\u001b[39m\u001b[39mcontent\u001b[39m\u001b[39m\"\u001b[39m]\n",
      "\u001b[0;31mAttributeError\u001b[0m: module 'openai' has no attribute 'ChatCompletion'"
     ]
    }
   ],
   "source": [
    "prompt = f\"\"\"\n",
    "Your task is to help a marketing team create a \n",
    "description for a retail website of a product based \n",
    "on a technical fact sheet.\n",
    "\n",
    "Write a product description based on the information \n",
    "provided in the technical specifications delimited by \n",
    "triple backticks.\n",
    "\n",
    "Use at most 50 words.\n",
    "\n",
    "Technical specifications: ```{fact_sheet_chair}```\n",
    "\"\"\"\n",
    "response = get_completion(prompt)\n",
    "print(response)\n"
   ]
  },
  {
   "cell_type": "code",
   "execution_count": null,
   "metadata": {},
   "outputs": [],
   "source": [
    "len(response.split(\" \")) #word count"
   ]
  },
  {
   "attachments": {},
   "cell_type": "markdown",
   "metadata": {},
   "source": [
    "## Issue 2. Text focuses on the wrong details\n",
    "- Ask it to focus on the aspects that are relevant to the intended audience."
   ]
  },
  {
   "cell_type": "code",
   "execution_count": null,
   "metadata": {},
   "outputs": [],
   "source": [
    "prompt = f\"\"\"\n",
    "Your task is to help a marketing team create a \n",
    "description for a retail website of a product based \n",
    "on a technical fact sheet.\n",
    "\n",
    "Write a product description based on the information \n",
    "provided in the technical specifications delimited by \n",
    "triple backticks.\n",
    "\n",
    "The description is intended for furniture retailers, \n",
    "so should be technical in nature and focus on the \n",
    "materials the product is constructed from.\n",
    "\n",
    "Use at most 50 words.\n",
    "\n",
    "Technical specifications: ```{fact_sheet_chair}```\n",
    "\"\"\"\n",
    "response = get_completion(prompt)\n",
    "print(response)"
   ]
  },
  {
   "cell_type": "code",
   "execution_count": null,
   "metadata": {},
   "outputs": [],
   "source": [
    "prompt = f\"\"\"\n",
    "Your task is to help a marketing team create a \n",
    "description for a retail website of a product based \n",
    "on a technical fact sheet.\n",
    "\n",
    "Write a product description based on the information \n",
    "provided in the technical specifications delimited by \n",
    "triple backticks.\n",
    "\n",
    "The description is intended for furniture retailers, \n",
    "so should be technical in nature and focus on the \n",
    "materials the product is constructed from.\n",
    "\n",
    "At the end of the description, include every 7-character \n",
    "Product ID in the technical specification.\n",
    "\n",
    "Use at most 50 words.\n",
    "\n",
    "Technical specifications: ```{fact_sheet_chair}```\n",
    "\"\"\"\n",
    "response = get_completion(prompt)\n",
    "print(response)"
   ]
  },
  {
   "attachments": {},
   "cell_type": "markdown",
   "metadata": {},
   "source": [
    "## Issue 3. Description needs a table of dimensions\n",
    "- Ask it to extract information and organize it in a table."
   ]
  },
  {
   "cell_type": "code",
   "execution_count": null,
   "metadata": {},
   "outputs": [],
   "source": [
    "prompt = f\"\"\"\n",
    "Your task is to help a marketing team create a \n",
    "description for a retail website of a product based \n",
    "on a technical fact sheet.\n",
    "\n",
    "Write a product description based on the information \n",
    "provided in the technical specifications delimited by \n",
    "triple backticks.\n",
    "\n",
    "The description is intended for furniture retailers, \n",
    "so should be technical in nature and focus on the \n",
    "materials the product is constructed from.\n",
    "\n",
    "At the end of the description, include every 7-character \n",
    "Product ID in the technical specification.\n",
    "\n",
    "After the description, include a table that gives the \n",
    "product's dimensions. The table should have two columns.\n",
    "In the first column include the name of the dimension. \n",
    "In the second column include the measurements in inches only.\n",
    "\n",
    "Give the table the title 'Product Dimensions'.\n",
    "\n",
    "Format everything as HTML that can be used in a website. \n",
    "Place the description in a <div> element. \n",
    "\n",
    "Add in-line CSS. Make it look sharp, minimal, with a theme of black and blue.\n",
    "Add CSS animations to the headings and table too.\n",
    "\n",
    "Technical specifications: ```{fact_sheet_chair}```\n",
    "\"\"\"\n",
    "\n",
    "response = get_completion(prompt)\n",
    "print(response)"
   ]
  },
  {
   "attachments": {},
   "cell_type": "markdown",
   "metadata": {},
   "source": [
    "## Load Python libraries to view HTML"
   ]
  },
  {
   "cell_type": "code",
   "execution_count": null,
   "metadata": {},
   "outputs": [],
   "source": [
    "from IPython.display import display, HTML"
   ]
  },
  {
   "cell_type": "code",
   "execution_count": null,
   "metadata": {},
   "outputs": [],
   "source": [
    "display(HTML(response))"
   ]
  },
  {
   "attachments": {},
   "cell_type": "markdown",
   "metadata": {},
   "source": [
    "## Try experimenting on your own!"
   ]
  },
  {
   "cell_type": "code",
   "execution_count": null,
   "metadata": {},
   "outputs": [],
   "source": [
    "prompt = f\"\"\"\n",
    "Follow this format in creating a fact sheet. \\\n",
    "The conversation is separated from Client and ChatGPT \\\n",
    "with the delimiter <>. Be very specific and thoughtful with the design.\n",
    "\n",
    "<Client: \"Create a fact sheet for a chair\">\n",
    "<ChatGPT: \"fact_sheet_chair =\n",
    "OVERVIEW\n",
    "- Part of a beautiful family of mid-century inspired office furniture, \n",
    "including filing cabinets, desks, bookcases, meeting tables, and more.\n",
    "- Several options of shell color and base finishes.\n",
    "- Available with plastic back and front upholstery (SWC-100) \n",
    "or full upholstery (SWC-110) in 10 fabric and 6 leather options.\n",
    "- Base finish options are: stainless steel, matte black, \n",
    "gloss white, or chrome.\n",
    "- Chair is available with or without armrests.\n",
    "- Suitable for home or business settings.\n",
    "- Qualified for contract use.\n",
    "\n",
    "CONSTRUCTION\n",
    "- 5-wheel plastic coated aluminum base.\n",
    "- Pneumatic chair adjust for easy raise/lower action.\n",
    "\n",
    "DIMENSIONS\n",
    "- WIDTH 53 CM | 20.87”\n",
    "- DEPTH 51 CM | 20.08”\n",
    "- HEIGHT 80 CM | 31.50”\n",
    "- SEAT HEIGHT 44 CM | 17.32”\n",
    "- SEAT DEPTH 41 CM | 16.14”\n",
    "\n",
    "OPTIONS\n",
    "- Soft or hard-floor caster options.\n",
    "- Two choices of seat foam densities: \n",
    " medium (1.8 lb/ft3) or high (2.8 lb/ft3)\n",
    "- Armless or 8 position PU armrests \n",
    "\n",
    "MATERIALS\n",
    "SHELL BASE GLIDER\n",
    "- Cast Aluminum with modified nylon PA6/PA66 coating.\n",
    "- Shell thickness: 10 mm.\n",
    "SEAT\n",
    "- HD36 foam\n",
    "\n",
    "COUNTRY OF ORIGIN\n",
    "- Italy\">\n",
    "\n",
    "<Client: \"Create a fact sheet for a new XR Video Game. Use a LOTR-like theme.\">\n",
    "\"\"\"\n",
    "\n",
    "response = get_completion(prompt)\n",
    "print(response)"
   ]
  },
  {
   "cell_type": "code",
   "execution_count": 11,
   "metadata": {},
   "outputs": [],
   "source": [
    "fact_sheet_XR_game = \"\"\"\n",
    "OVERVIEW\n",
    "- Immerse yourself in a fantastical world inspired by the Lord of the Rings.\n",
    "- Play as a hero on a quest to save Middle Earth from the forces of darkness.\n",
    "- Experience the game in XR (extended reality) for a fully immersive experience.\n",
    "- Choose from a variety of races and classes to customize your character.\n",
    "- Explore a vast open world filled with dangerous creatures and hidden treasures.\n",
    "- Battle epic bosses and engage in intense PvP combat with other players.\n",
    "- Join a fellowship and work together to complete quests and defeat enemies.\n",
    "\n",
    "GAMEPLAY\n",
    "- XR technology allows for a fully immersive experience, \n",
    "with 360-degree views and realistic sound effects.\n",
    "- Choose from 5 races: Human, Elf, Dwarf, Hobbit, or Orc.\n",
    "- Choose from 4 classes: Warrior, Mage, Rogue, or Cleric.\n",
    "- Customize your character's appearance and abilities.\n",
    "- Explore a vast open world filled with quests, dungeons, and hidden treasures.\n",
    "- Battle epic bosses and engage in intense PvP combat with other players.\n",
    "- Join a fellowship and work together to complete quests and defeat enemies.\n",
    "\n",
    "SYSTEM REQUIREMENTS\n",
    "- XR headset (compatible with Oculus Rift, HTC Vive, or Windows Mixed Reality)\n",
    "- High-end gaming PC with at least an Intel Core i5 processor and NVIDIA GTX 1060 graphics card.\n",
    "- Internet connection required for online play.\n",
    "\n",
    "COUNTRY OF ORIGIN\n",
    "- Developed in the United States. \n",
    "\n",
    "AGE RATING\n",
    "- Suitable for ages 13 and up. \n",
    "\n",
    "LANGUAGES\n",
    "- English, Spanish, French, German, Italian, Japanese, Korean, Chinese. \n",
    "\n",
    "RELEASE DATE\n",
    "- To be announced. \n",
    "\n",
    "PRICE\n",
    "- To be announced.\n",
    "\"\"\""
   ]
  },
  {
   "cell_type": "code",
   "execution_count": 12,
   "metadata": {},
   "outputs": [
    {
     "ename": "AttributeError",
     "evalue": "module 'openai' has no attribute 'ChatCompletion'",
     "output_type": "error",
     "traceback": [
      "\u001b[0;31m---------------------------------------------------------------------------\u001b[0m",
      "\u001b[0;31mAttributeError\u001b[0m                            Traceback (most recent call last)",
      "\u001b[1;32m/Users/cvk/Downloads/[CODE] Local Projects/[COURSE] ChatGPT Prompt Engineering for Developers/l3-iterative-prompt-development.ipynb Cell 21\u001b[0m in \u001b[0;36m<cell line: 19>\u001b[0;34m()\u001b[0m\n\u001b[1;32m      <a href='vscode-notebook-cell:/Users/cvk/Downloads/%5BCODE%5D%20Local%20Projects/%5BCOURSE%5D%20ChatGPT%20Prompt%20Engineering%20for%20Developers/l3-iterative-prompt-development.ipynb#X35sZmlsZQ%3D%3D?line=0'>1</a>\u001b[0m prompt \u001b[39m=\u001b[39m \u001b[39mf\u001b[39m\u001b[39m\"\"\"\u001b[39m\n\u001b[1;32m      <a href='vscode-notebook-cell:/Users/cvk/Downloads/%5BCODE%5D%20Local%20Projects/%5BCOURSE%5D%20ChatGPT%20Prompt%20Engineering%20for%20Developers/l3-iterative-prompt-development.ipynb#X35sZmlsZQ%3D%3D?line=1'>2</a>\u001b[0m \u001b[39mYour task is to help a marketing team create a \u001b[39m\n\u001b[1;32m      <a href='vscode-notebook-cell:/Users/cvk/Downloads/%5BCODE%5D%20Local%20Projects/%5BCOURSE%5D%20ChatGPT%20Prompt%20Engineering%20for%20Developers/l3-iterative-prompt-development.ipynb#X35sZmlsZQ%3D%3D?line=2'>3</a>\u001b[0m \u001b[39mdescription for a gamer landing page website of a product based \u001b[39m\n\u001b[0;32m   (...)\u001b[0m\n\u001b[1;32m     <a href='vscode-notebook-cell:/Users/cvk/Downloads/%5BCODE%5D%20Local%20Projects/%5BCOURSE%5D%20ChatGPT%20Prompt%20Engineering%20for%20Developers/l3-iterative-prompt-development.ipynb#X35sZmlsZQ%3D%3D?line=15'>16</a>\u001b[0m \u001b[39mTechnical specifications: ```\u001b[39m\u001b[39m{\u001b[39;00mfact_sheet_XR_game\u001b[39m}\u001b[39;00m\u001b[39m```\u001b[39m\n\u001b[1;32m     <a href='vscode-notebook-cell:/Users/cvk/Downloads/%5BCODE%5D%20Local%20Projects/%5BCOURSE%5D%20ChatGPT%20Prompt%20Engineering%20for%20Developers/l3-iterative-prompt-development.ipynb#X35sZmlsZQ%3D%3D?line=16'>17</a>\u001b[0m \u001b[39m\"\"\"\u001b[39m\n\u001b[0;32m---> <a href='vscode-notebook-cell:/Users/cvk/Downloads/%5BCODE%5D%20Local%20Projects/%5BCOURSE%5D%20ChatGPT%20Prompt%20Engineering%20for%20Developers/l3-iterative-prompt-development.ipynb#X35sZmlsZQ%3D%3D?line=18'>19</a>\u001b[0m response \u001b[39m=\u001b[39m get_completion(prompt)\n\u001b[1;32m     <a href='vscode-notebook-cell:/Users/cvk/Downloads/%5BCODE%5D%20Local%20Projects/%5BCOURSE%5D%20ChatGPT%20Prompt%20Engineering%20for%20Developers/l3-iterative-prompt-development.ipynb#X35sZmlsZQ%3D%3D?line=19'>20</a>\u001b[0m \u001b[39mprint\u001b[39m(response)\n",
      "\u001b[1;32m/Users/cvk/Downloads/[CODE] Local Projects/[COURSE] ChatGPT Prompt Engineering for Developers/l3-iterative-prompt-development.ipynb Cell 21\u001b[0m in \u001b[0;36mget_completion\u001b[0;34m(prompt, model)\u001b[0m\n\u001b[1;32m      <a href='vscode-notebook-cell:/Users/cvk/Downloads/%5BCODE%5D%20Local%20Projects/%5BCOURSE%5D%20ChatGPT%20Prompt%20Engineering%20for%20Developers/l3-iterative-prompt-development.ipynb#X35sZmlsZQ%3D%3D?line=0'>1</a>\u001b[0m \u001b[39mdef\u001b[39;00m \u001b[39mget_completion\u001b[39m(prompt, model\u001b[39m=\u001b[39m\u001b[39m\"\u001b[39m\u001b[39mgpt-3.5-turbo\u001b[39m\u001b[39m\"\u001b[39m):\n\u001b[1;32m      <a href='vscode-notebook-cell:/Users/cvk/Downloads/%5BCODE%5D%20Local%20Projects/%5BCOURSE%5D%20ChatGPT%20Prompt%20Engineering%20for%20Developers/l3-iterative-prompt-development.ipynb#X35sZmlsZQ%3D%3D?line=1'>2</a>\u001b[0m     messages \u001b[39m=\u001b[39m [{\u001b[39m\"\u001b[39m\u001b[39mrole\u001b[39m\u001b[39m\"\u001b[39m: \u001b[39m\"\u001b[39m\u001b[39muser\u001b[39m\u001b[39m\"\u001b[39m, \u001b[39m\"\u001b[39m\u001b[39mcontent\u001b[39m\u001b[39m\"\u001b[39m: prompt}]\n\u001b[0;32m----> <a href='vscode-notebook-cell:/Users/cvk/Downloads/%5BCODE%5D%20Local%20Projects/%5BCOURSE%5D%20ChatGPT%20Prompt%20Engineering%20for%20Developers/l3-iterative-prompt-development.ipynb#X35sZmlsZQ%3D%3D?line=2'>3</a>\u001b[0m     response \u001b[39m=\u001b[39m openai\u001b[39m.\u001b[39;49mChatCompletion\u001b[39m.\u001b[39mcreate(\n\u001b[1;32m      <a href='vscode-notebook-cell:/Users/cvk/Downloads/%5BCODE%5D%20Local%20Projects/%5BCOURSE%5D%20ChatGPT%20Prompt%20Engineering%20for%20Developers/l3-iterative-prompt-development.ipynb#X35sZmlsZQ%3D%3D?line=3'>4</a>\u001b[0m         model\u001b[39m=\u001b[39mmodel,\n\u001b[1;32m      <a href='vscode-notebook-cell:/Users/cvk/Downloads/%5BCODE%5D%20Local%20Projects/%5BCOURSE%5D%20ChatGPT%20Prompt%20Engineering%20for%20Developers/l3-iterative-prompt-development.ipynb#X35sZmlsZQ%3D%3D?line=4'>5</a>\u001b[0m         messages\u001b[39m=\u001b[39mmessages,\n\u001b[1;32m      <a href='vscode-notebook-cell:/Users/cvk/Downloads/%5BCODE%5D%20Local%20Projects/%5BCOURSE%5D%20ChatGPT%20Prompt%20Engineering%20for%20Developers/l3-iterative-prompt-development.ipynb#X35sZmlsZQ%3D%3D?line=5'>6</a>\u001b[0m         temperature\u001b[39m=\u001b[39m\u001b[39m0\u001b[39m, \u001b[39m# this is the degree of randomness of the model's output\u001b[39;00m\n\u001b[1;32m      <a href='vscode-notebook-cell:/Users/cvk/Downloads/%5BCODE%5D%20Local%20Projects/%5BCOURSE%5D%20ChatGPT%20Prompt%20Engineering%20for%20Developers/l3-iterative-prompt-development.ipynb#X35sZmlsZQ%3D%3D?line=6'>7</a>\u001b[0m     )\n\u001b[1;32m      <a href='vscode-notebook-cell:/Users/cvk/Downloads/%5BCODE%5D%20Local%20Projects/%5BCOURSE%5D%20ChatGPT%20Prompt%20Engineering%20for%20Developers/l3-iterative-prompt-development.ipynb#X35sZmlsZQ%3D%3D?line=7'>8</a>\u001b[0m     \u001b[39mreturn\u001b[39;00m response\u001b[39m.\u001b[39mchoices[\u001b[39m0\u001b[39m]\u001b[39m.\u001b[39mmessage[\u001b[39m\"\u001b[39m\u001b[39mcontent\u001b[39m\u001b[39m\"\u001b[39m]\n",
      "\u001b[0;31mAttributeError\u001b[0m: module 'openai' has no attribute 'ChatCompletion'"
     ]
    }
   ],
   "source": [
    "prompt = f\"\"\"\n",
    "Your task is to help a marketing team create a \n",
    "description for a gamer landing page website of a product based \n",
    "on a technical fact sheet.\n",
    "\n",
    "Write a product description based on the information \n",
    "provided in the technical specifications delimited by \n",
    "triple backticks.\n",
    "\n",
    "Format everything as HTML that can be used in a website. \n",
    "Place the description in a <div> element. \n",
    "\n",
    "Add in-line CSS. Make it look sharp, minimal, with a theme of white and green. Make sure it is accessible for those visually challenged.\n",
    "Add subtle CSS animations to the headings and table too.\n",
    "\n",
    "Technical specifications: ```{fact_sheet_XR_game}```\n",
    "\"\"\"\n",
    "\n",
    "response = get_completion(prompt)\n",
    "print(response)"
   ]
  },
  {
   "cell_type": "code",
   "execution_count": null,
   "metadata": {},
   "outputs": [],
   "source": [
    "display(HTML(response))"
   ]
  }
 ],
 "metadata": {
  "kernelspec": {
   "display_name": "Python 3",
   "language": "python",
   "name": "python3"
  },
  "language_info": {
   "codemirror_mode": {
    "name": "ipython",
    "version": 3
   },
   "file_extension": ".py",
   "mimetype": "text/x-python",
   "name": "python",
   "nbconvert_exporter": "python",
   "pygments_lexer": "ipython3",
   "version": "3.10.5"
  },
  "orig_nbformat": 4
 },
 "nbformat": 4,
 "nbformat_minor": 2
}
